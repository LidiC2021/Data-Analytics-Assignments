{
 "cells": [
  {
   "cell_type": "markdown",
   "metadata": {},
   "source": [
    "# Chocolate Bar Ratings Dataset\n",
    "\n",
    "In this assignment, you will use a dataset with the ratings of several chocolate bars produced by companies located in different parts of the world. The dataset is a pre-processed version of the original dataset that can be found following this [link](https://www.kaggle.com/rtatman/chocolate-bar-ratings).\n",
    "\n",
    "Your focus will be on the ratings of chocolate bars produced in the UK and Switzerland. The ratings are in the range of 1-5; the higher the better."
   ]
  },
  {
   "cell_type": "markdown",
   "metadata": {},
   "source": [
    "KATE expects your code to define variables with specific names that correspond to certain things we are interested in.\n",
    "\n",
    "KATE will run your notebook from top to bottom and check the latest value of those variables, so make sure you don't overwrite them.\n",
    "\n",
    "* Remember to uncomment the line assigning the variable to your answer and don't change the variable or function names.\n",
    "* Use copies of the original or previous DataFrames to make sure you do not overwrite them by mistake.\n",
    "\n",
    "You will find instructions below about how to define each variable.\n",
    "\n",
    "Once you're happy with your code, upload your notebook to KATE to check your feedback."
   ]
  },
  {
   "cell_type": "markdown",
   "metadata": {},
   "source": [
    "KATE expects your code to define variables with specific names that correspond to certain things we are interested in.\n",
    "\n",
    "KATE will run your notebook from top to bottom and check the latest value of those variables, so make sure you don't overwrite them.\n",
    "\n",
    "* Remember to uncomment the line assigning the variable to your answer and don't change the variable or function names.\n",
    "* Use copies of the original or previous DataFrames to make sure you do not overwrite them by mistake.\n",
    "\n",
    "You will find instructions below about how to define each variable.\n",
    "\n",
    "Once you're happy with your code, upload your notebook to KATE to check your feedback."
   ]
  },
  {
   "cell_type": "markdown",
   "metadata": {},
   "source": [
    "### Importing Libraries\n",
    "\n",
    "Before proceeding to the questions, ensure that you run the code cell to import the necessary libraries."
   ]
  },
  {
   "cell_type": "code",
   "execution_count": 1,
   "metadata": {
    "inputHidden": false,
    "outputHidden": false
   },
   "outputs": [],
   "source": [
    "# Import the usual suspects for data manipulation, statistics, and visualisations.\n",
    "import pandas as pd # used to \"tidy\" up and manipulate our data\n",
    "import numpy as np # used for matrix and numerical calculations; the foundation of pandas\n",
    "from scipy import stats # contains stats functions and is used to visualise probability distributions\n",
    "import matplotlib.pyplot as plt # used for visualisations\n",
    "import seaborn as sns # a more user-friendly library used for visualisations"
   ]
  },
  {
   "cell_type": "markdown",
   "metadata": {},
   "source": [
    "### Dataset and variables"
   ]
  },
  {
   "cell_type": "markdown",
   "metadata": {},
   "source": [
    "**1. Load the dataset `flavors_cacao.csv` into a DataFrame called `choco_df` using the file path `'data/flavors_cacao.csv'` and display the first 5 rows of the DataFrame using the `.head()` method.**\n",
    "\n",
    "See below code syntax for some guidance:\n",
    "```python\n",
    "choco_df = pd.read_csv(<file_path>)\n",
    "choco_df.head()\n",
    "```"
   ]
  },
  {
   "cell_type": "code",
   "execution_count": 2,
   "metadata": {},
   "outputs": [
    {
     "data": {
      "text/html": [
       "<div>\n",
       "<style scoped>\n",
       "    .dataframe tbody tr th:only-of-type {\n",
       "        vertical-align: middle;\n",
       "    }\n",
       "\n",
       "    .dataframe tbody tr th {\n",
       "        vertical-align: top;\n",
       "    }\n",
       "\n",
       "    .dataframe thead th {\n",
       "        text-align: right;\n",
       "    }\n",
       "</style>\n",
       "<table border=\"1\" class=\"dataframe\">\n",
       "  <thead>\n",
       "    <tr style=\"text-align: right;\">\n",
       "      <th></th>\n",
       "      <th>company</th>\n",
       "      <th>species</th>\n",
       "      <th>REF</th>\n",
       "      <th>review_year</th>\n",
       "      <th>cocoa_p</th>\n",
       "      <th>company_location</th>\n",
       "      <th>rating</th>\n",
       "      <th>country</th>\n",
       "    </tr>\n",
       "  </thead>\n",
       "  <tbody>\n",
       "    <tr>\n",
       "      <th>0</th>\n",
       "      <td>Akesson's (Pralus)</td>\n",
       "      <td>Bali (west), Sukrama Family, Melaya area</td>\n",
       "      <td>636</td>\n",
       "      <td>2011</td>\n",
       "      <td>0.75</td>\n",
       "      <td>Switzerland</td>\n",
       "      <td>3.75</td>\n",
       "      <td>Indonesia</td>\n",
       "    </tr>\n",
       "    <tr>\n",
       "      <th>1</th>\n",
       "      <td>Akesson's (Pralus)</td>\n",
       "      <td>Madagascar, Ambolikapiky P.</td>\n",
       "      <td>502</td>\n",
       "      <td>2010</td>\n",
       "      <td>0.75</td>\n",
       "      <td>Switzerland</td>\n",
       "      <td>2.75</td>\n",
       "      <td>Madagascar</td>\n",
       "    </tr>\n",
       "    <tr>\n",
       "      <th>2</th>\n",
       "      <td>Akesson's (Pralus)</td>\n",
       "      <td>Monte Alegre, D. Badero</td>\n",
       "      <td>508</td>\n",
       "      <td>2010</td>\n",
       "      <td>0.75</td>\n",
       "      <td>Switzerland</td>\n",
       "      <td>2.75</td>\n",
       "      <td>Brazil</td>\n",
       "    </tr>\n",
       "    <tr>\n",
       "      <th>3</th>\n",
       "      <td>Artisan du Chocolat</td>\n",
       "      <td>Trinidad, Heritage, Limited ed.</td>\n",
       "      <td>1193</td>\n",
       "      <td>2013</td>\n",
       "      <td>0.72</td>\n",
       "      <td>U.K.</td>\n",
       "      <td>3.25</td>\n",
       "      <td>Trinidad</td>\n",
       "    </tr>\n",
       "    <tr>\n",
       "      <th>4</th>\n",
       "      <td>Artisan du Chocolat</td>\n",
       "      <td>Colombia, Casa Luker</td>\n",
       "      <td>947</td>\n",
       "      <td>2012</td>\n",
       "      <td>0.72</td>\n",
       "      <td>U.K.</td>\n",
       "      <td>3.75</td>\n",
       "      <td>Colombia</td>\n",
       "    </tr>\n",
       "  </tbody>\n",
       "</table>\n",
       "</div>"
      ],
      "text/plain": [
       "               company                                   species   REF  \\\n",
       "0   Akesson's (Pralus)  Bali (west), Sukrama Family, Melaya area   636   \n",
       "1   Akesson's (Pralus)               Madagascar, Ambolikapiky P.   502   \n",
       "2   Akesson's (Pralus)                   Monte Alegre, D. Badero   508   \n",
       "3  Artisan du Chocolat           Trinidad, Heritage, Limited ed.  1193   \n",
       "4  Artisan du Chocolat                      Colombia, Casa Luker   947   \n",
       "\n",
       "   review_year  cocoa_p company_location  rating     country  \n",
       "0         2011     0.75      Switzerland    3.75   Indonesia  \n",
       "1         2010     0.75      Switzerland    2.75  Madagascar  \n",
       "2         2010     0.75      Switzerland    2.75      Brazil  \n",
       "3         2013     0.72             U.K.    3.25    Trinidad  \n",
       "4         2012     0.72             U.K.    3.75    Colombia  "
      ]
     },
     "execution_count": 2,
     "metadata": {},
     "output_type": "execute_result"
    }
   ],
   "source": [
    "#add your code below\n",
    "choco_df = pd.read_csv('data/flavors_cacao.csv')\n",
    "choco_df.head(5)\n",
    "\n"
   ]
  },
  {
   "cell_type": "markdown",
   "metadata": {},
   "source": [
    "**2. Using the `.loc` method select the column named `rating` from the DataFrame `choco_df`, Then filter the rows where the value in the column `company_location` is equal to `'U.K.'`. Store the resulting data in a variable called `uk_ratings`.**\n",
    "\n",
    "You can use `choco_df['company_location'] == 'U.K.'` as the filtering criteria while filtering rows.\n",
    "\n",
    "See below code syntax for some guidance:\n",
    "```python\n",
    "uk_ratings = choco_df.loc[<filtering_criteria>,<column_name>]\n",
    "uk_ratings\n",
    "```\n",
    "Your answer should be a Pandas Series."
   ]
  },
  {
   "cell_type": "code",
   "execution_count": 3,
   "metadata": {},
   "outputs": [
    {
     "data": {
      "text/plain": [
       "3      3.25\n",
       "4      3.75\n",
       "5      4.00\n",
       "6      2.75\n",
       "7      1.75\n",
       "       ... \n",
       "129    1.50\n",
       "130    3.50\n",
       "131    5.00\n",
       "132    3.00\n",
       "133    3.25\n",
       "Length: 96, dtype: float64"
      ]
     },
     "execution_count": 3,
     "metadata": {},
     "output_type": "execute_result"
    }
   ],
   "source": [
    "#add your code below\n",
    "#uk_ratings = ...\n",
    "uk_ratings = choco_df.loc[choco_df['company_location'] == 'U.K.', 'rating']\n",
    "uk_ratings.name = None\n",
    "uk_ratings"
   ]
  },
  {
   "cell_type": "markdown",
   "metadata": {},
   "source": [
    "**3. Using the `.loc` method select the column named `rating` from the DataFrame `choco_df`, Then filter the rows where the value in the column `company_location` is equal to `'Switzerland'`. Store the resulting data in a variable called `swiss_ratings`.**\n",
    "\n",
    "You can use `choco_df['company_location'] == 'Switzerland'` as the filtering criteria while filtering rows.\n",
    "\n",
    "See below code syntax for some guidance:\n",
    "```python\n",
    "swiss_ratings = choco_df.loc[<filtering_criteria>,<column_name>]\n",
    "swiss_ratings\n",
    "```\n",
    "Your answer should be a Pandas Series."
   ]
  },
  {
   "cell_type": "code",
   "execution_count": 4,
   "metadata": {},
   "outputs": [
    {
     "data": {
      "text/plain": [
       "0      3.75\n",
       "1      2.75\n",
       "2      2.75\n",
       "22     3.00\n",
       "23     3.00\n",
       "24     3.50\n",
       "25     4.00\n",
       "26     3.25\n",
       "27     3.25\n",
       "28     3.50\n",
       "29     3.50\n",
       "60     3.50\n",
       "61     2.00\n",
       "62     3.00\n",
       "63     3.00\n",
       "64     3.00\n",
       "65     3.50\n",
       "66     4.00\n",
       "91     3.75\n",
       "92     3.75\n",
       "93     3.75\n",
       "94     3.25\n",
       "95     3.75\n",
       "96     4.00\n",
       "97     3.50\n",
       "98     4.00\n",
       "99     4.00\n",
       "100    4.00\n",
       "101    3.00\n",
       "102    2.75\n",
       "103    4.50\n",
       "104    3.75\n",
       "105    3.00\n",
       "106    3.00\n",
       "107    3.25\n",
       "123    3.00\n",
       "124    2.75\n",
       "125    4.25\n",
       "dtype: float64"
      ]
     },
     "execution_count": 4,
     "metadata": {},
     "output_type": "execute_result"
    }
   ],
   "source": [
    "#add your code below\n",
    "swiss_ratings = choco_df.loc[choco_df['company_location'] == 'Switzerland', 'rating']\n",
    "swiss_ratings.name = None\n",
    "swiss_ratings"
   ]
  },
  {
   "cell_type": "markdown",
   "metadata": {},
   "source": [
    "**4. How many rows are in `uk_ratings`?** \n",
    "\n",
    "To determine the number of rows in the `uk_ratings` Pandas Series, you can use the `.shape[0]` attribute or `len()` function.\n",
    "\n",
    "Store your answer in a variable called `uk_rows`"
   ]
  },
  {
   "cell_type": "code",
   "execution_count": 5,
   "metadata": {},
   "outputs": [
    {
     "data": {
      "text/plain": [
       "96"
      ]
     },
     "execution_count": 5,
     "metadata": {},
     "output_type": "execute_result"
    }
   ],
   "source": [
    "#add your code below\n",
    "uk_rows = uk_ratings.shape[0]\n",
    "# or \n",
    "#uk_rows = len(uk_ratings)\n",
    "uk_rows"
   ]
  },
  {
   "cell_type": "markdown",
   "metadata": {},
   "source": [
    "**5. What is the mean rating of the chocolate produced by companies in the UK?** \n",
    "\n",
    "Refer to the `uk_ratings` Pandas Series. To calculate the mean rating of the chocolate produced by companies in the UK, you can use the NumPy `np.mean()` function.\n",
    "\n",
    "See below code syntax for some guidance:\n",
    "```python\n",
    "np.mean(uk_ratings)\n",
    "```\n",
    "Store your answer in a variable called `uk_mean_rating`"
   ]
  },
  {
   "cell_type": "code",
   "execution_count": 6,
   "metadata": {},
   "outputs": [
    {
     "data": {
      "text/plain": [
       "3.0729166666666665"
      ]
     },
     "execution_count": 6,
     "metadata": {},
     "output_type": "execute_result"
    }
   ],
   "source": [
    "#add your code below\n",
    "\n",
    "uk_mean_rating = np.mean(uk_ratings)\n",
    "uk_mean_rating"
   ]
  },
  {
   "cell_type": "markdown",
   "metadata": {},
   "source": [
    "**6. What is the median rating of the chocolate produced by companies in the UK?** \n",
    "\n",
    "Refer to the `uk_ratings` Pandas Series. To calculate the median rating of the chocolate produced by companies in the UK, you can use the NumPy `np.median()` function.\n",
    "\n",
    "See below code syntax for some guidance:\n",
    "```python\n",
    "np.median(uk_ratings)\n",
    "```\n",
    "Store your answer in a variable called `uk_median_rating`"
   ]
  },
  {
   "cell_type": "code",
   "execution_count": 7,
   "metadata": {},
   "outputs": [
    {
     "data": {
      "text/plain": [
       "3.0"
      ]
     },
     "execution_count": 7,
     "metadata": {},
     "output_type": "execute_result"
    }
   ],
   "source": [
    "#add your code below\n",
    "uk_median_rating = np.median(uk_ratings)\n",
    "uk_median_rating\n"
   ]
  },
  {
   "cell_type": "markdown",
   "metadata": {},
   "source": [
    "**7. What is the Standard Error of the Mean (SEM) of the ratings of the chocolates produced by UK companies?** \n",
    "\n",
    "Refer to the `uk_ratings` Pandas Series. To calculate the `Standard Error of the Mean (SEM)` of the ratings of the chocolates produced by UK companies using the scipy library, you can utilize the sem() function from the stats module: `stats.sem()`.\n",
    "\n",
    "See below code syntax for some guidance:\n",
    "```python\n",
    "stats.sem(uk_ratings)\n",
    "```\n",
    "Store your answer in a variable called `uk_ratings_sem`"
   ]
  },
  {
   "cell_type": "code",
   "execution_count": 8,
   "metadata": {},
   "outputs": [
    {
     "data": {
      "text/plain": [
       "0.05887708663316619"
      ]
     },
     "execution_count": 8,
     "metadata": {},
     "output_type": "execute_result"
    }
   ],
   "source": [
    "#add your code below\n",
    "uk_ratings_sem = stats.sem(uk_ratings)\n",
    "uk_ratings_sem"
   ]
  },
  {
   "cell_type": "markdown",
   "metadata": {},
   "source": [
    "**8. How many rows are in `swiss_ratings`?** \n",
    "\n",
    "To determine the number of rows in the `swiss_ratings` Pandas Series, you can use the `.shape[0]` attribute or `len()` function.\n",
    "\n",
    "Store your answer in a variable called `swiss_rows`"
   ]
  },
  {
   "cell_type": "code",
   "execution_count": 9,
   "metadata": {},
   "outputs": [
    {
     "data": {
      "text/plain": [
       "38"
      ]
     },
     "execution_count": 9,
     "metadata": {},
     "output_type": "execute_result"
    }
   ],
   "source": [
    "#add your code below\n",
    "swiss_rows = swiss_ratings.shape[0]\n",
    "#swiss_rows = len(swiss_ratings)\n",
    "swiss_rows\n"
   ]
  },
  {
   "cell_type": "markdown",
   "metadata": {},
   "source": [
    "**9. What is the mean rating of the chocolate produced by Swiss companies?** \n",
    "\n",
    "Refer to the `swiss_ratings` Pandas Series. To calculate the mean rating of the chocolate produced by  Swiss companies, you can use the NumPy `np.mean()` function.\n",
    "\n",
    "See below code syntax for some guidance:\n",
    "```python\n",
    "np.mean(swiss_ratings)\n",
    "```\n",
    "Store your answer in a variable called `swiss_mean_rating`"
   ]
  },
  {
   "cell_type": "code",
   "execution_count": 10,
   "metadata": {},
   "outputs": [
    {
     "data": {
      "text/plain": [
       "3.401315789473684"
      ]
     },
     "execution_count": 10,
     "metadata": {},
     "output_type": "execute_result"
    }
   ],
   "source": [
    "#add your code below\n",
    "swiss_mean_rating = np.mean(swiss_ratings)\n",
    "swiss_mean_rating\n"
   ]
  },
  {
   "cell_type": "markdown",
   "metadata": {},
   "source": [
    "**10. What is the median rating of the chocolate produced by Swiss companies?** \n",
    "\n",
    "Refer to the `swiss_ratings` Pandas Series. To calculate the median rating of the chocolate produced by  Swiss companies, you can use the NumPy `np.median()` function.\n",
    "\n",
    "See below code syntax for some guidance:\n",
    "```python\n",
    "np.median(swiss_ratings)\n",
    "```\n",
    "Store your answer in a variable called `swiss_median_rating`"
   ]
  },
  {
   "cell_type": "code",
   "execution_count": 11,
   "metadata": {},
   "outputs": [
    {
     "data": {
      "text/plain": [
       "3.5"
      ]
     },
     "execution_count": 11,
     "metadata": {},
     "output_type": "execute_result"
    }
   ],
   "source": [
    "#add your code below\n",
    "swiss_median_rating = np.median(swiss_ratings)\n",
    "swiss_median_rating\n"
   ]
  },
  {
   "cell_type": "markdown",
   "metadata": {},
   "source": [
    "**11. What is the Standard Error of the Mean (SEM) of the ratings of the chocolate produced by Swiss companies?** \n",
    "\n",
    "Refer to the `swiss_ratings` Pandas Series. To calculate the `Standard Error of the Mean (SEM)` of the ratings of the chocolates produced by Swiss companies using the scipy library, you can utilize the sem() function from the stats module: `stats.sem()`.\n",
    "\n",
    "See below code syntax for some guidance:\n",
    "```python\n",
    "stats.sem(swiss_ratings)\n",
    "```\n",
    "Store your answer in a variable called `swiss_ratings_sem`"
   ]
  },
  {
   "cell_type": "code",
   "execution_count": 12,
   "metadata": {},
   "outputs": [
    {
     "data": {
      "text/plain": [
       "0.08461877614533614"
      ]
     },
     "execution_count": 12,
     "metadata": {},
     "output_type": "execute_result"
    }
   ],
   "source": [
    "#add your code below\n",
    "swiss_ratings_sem = stats.sem(swiss_ratings)\n",
    "swiss_ratings_sem\n"
   ]
  },
  {
   "cell_type": "markdown",
   "metadata": {},
   "source": [
    "**12. Use box plots to compare ratings from the UK and Switzerland**\n",
    "\n",
    "Refer to the `choco_df` DataFrame. Use `sns.boxplot()` to plot `rating` against `company_location` in order to compare national ratings.\n",
    "\n",
    "* Ensure you save your plot to the variable called `ratings_comp`.\n",
    "* Ensure the plot has the x-label 'Rating'\n",
    "* Ensure the plot has the y-label 'Location'\n",
    "\n",
    "See below code syntax for some guidance:\n",
    "```python\n",
    "ratings_comp = sns.violinplot(x=..., y=..., data=...)\n",
    "ratings_comp.set(xlabel=..., ylabel=...)\n",
    "```"
   ]
  },
  {
   "cell_type": "code",
   "execution_count": 17,
   "metadata": {},
   "outputs": [
    {
     "data": {
      "text/plain": [
       "[Text(0.5, 0, 'Rating'), Text(0, 0.5, 'Location')]"
      ]
     },
     "execution_count": 17,
     "metadata": {},
     "output_type": "execute_result"
    },
    {
     "data": {
      "image/png": "[encoded data removed]",
      "text/plain": [
       "<Figure size 640x480 with 1 Axes>"
      ]
     },
     "metadata": {},
     "output_type": "display_data"
    }
   ],
   "source": [
    "#add your code below\n",
    "ratings_comp = sns.violinplot(x='rating', y='company_location', data=choco_df)\n",
    "ratings_comp.set(xlabel='Rating', ylabel='Location')"
   ]
  },
  {
   "cell_type": "markdown",
   "metadata": {},
   "source": [
    "### Outlier detection\n",
    "\n",
    "**Are there any outliers in our data that might be skewing our statistics?**\n",
    "\n",
    "An outlier is an extreme value that lies outside the overall pattern of the data.\n",
    "\n",
    "There are several different ways of determining outliers, depending on the nature of the data and the calculations that you are asked to carry out.\n",
    "\n",
    "Here we will use the definition that an outlier is any value that is:\n",
    "- either greater than $Q_{3} + 1.5(Q_{3}-Q_{1})$\n",
    "- or less than $Q_{1} - 1.5(Q_{3}-Q_{1})$\n",
    "\n",
    "where $Q_{3}$ is the upper quartile, and $Q_{1}$ is the lower quartile.\n",
    "\n",
    "<blockquote> Note: This is the default criteria in Seaborn used to mark outliers on boxplot diagrams like the one you created in the previous question </blockquote>"
   ]
  },
  {
   "cell_type": "markdown",
   "metadata": {},
   "source": [
    "**13 Create a function called `find_outliers` that accepts a DataFrame as input. The function will determine outliers in the `rating` column of the DataFrame using the specified criteria.** \n",
    "\n",
    "**Upon execution, the function will return a list named `outliers` containing the identified outliers. It is assumed that the DataFrame has the same format as `choco_df` and includes a `rating` column.**\n",
    "\n",
    "See below code syntax for some guidance:\n",
    "```python\n",
    "q1 = df['rating'].quantile(0.25)\n",
    "q3 = df['rating'].quantile(0.75)\n",
    "upper = q3 + 1.5*(q3-q1)\n",
    "lower = q1 - 1.5*(q3-q1)\n",
    "```"
   ]
  },
  {
   "cell_type": "code",
   "execution_count": 21,
   "metadata": {},
   "outputs": [],
   "source": [
    "def find_outliers(df):\n",
    "    # Step 1: Calculate quartiles\n",
    "    q1 = df['rating'].quantile(0.25)\n",
    "    q3 = df['rating'].quantile(0.75)\n",
    "    \n",
    "    # Step 2: Calculate IQR\n",
    "    iqr = q3 - q1\n",
    "    \n",
    "    # Step 3: Calculate bounds\n",
    "    lower = q1 - 1.5 * iqr\n",
    "    upper = q3 + 1.5 * iqr\n",
    "    \n",
    "    # Step 4: Identify outliers\n",
    "    outliers = df[(df['rating'] < lower) | (df['rating'] > upper)]['rating'].tolist()\n",
    "    \n",
    "    return outliers"
   ]
  },
  {
   "cell_type": "code",
   "execution_count": 24,
   "metadata": {},
   "outputs": [
    {
     "data": {
      "text/plain": [
       "[4.75, 1.5, 5.0]"
      ]
     },
     "execution_count": 24,
     "metadata": {},
     "output_type": "execute_result"
    }
   ],
   "source": [
    "#find_outliers(df)"
   ]
  },
  {
   "cell_type": "markdown",
   "metadata": {},
   "source": [
    "**14. Use your function `find_outliers` to determine the outliers in the `choco_df` data, first filtering the dataframe so it contains only ratings from the UK**\n",
    "\n",
    "Store your answer (the output of the `find_outliers` function) in a variable called `uk_outliers`\n",
    "\n",
    "See below code syntax for some guidance:\n",
    "```python\n",
    "uk_df = choco_df[choco_df['company_location']=='U.K.']\n",
    "uk_outliers = find_outliers(uk_df)\n",
    "uk_outliers\n",
    "```"
   ]
  },
  {
   "cell_type": "code",
   "execution_count": 26,
   "metadata": {},
   "outputs": [
    {
     "data": {
      "text/plain": [
       "[4.75, 1.5, 5.0]"
      ]
     },
     "execution_count": 26,
     "metadata": {},
     "output_type": "execute_result"
    }
   ],
   "source": [
    "# Step 1: Filter the DataFrame for UK only\n",
    "uk_df = choco_df[choco_df['company_location'] == 'U.K.']\n",
    "\n",
    "# Step 2: Apply the find_outliers function\n",
    "uk_outliers = find_outliers(uk_df)\n",
    "\n",
    "# Step 3: Display the outliers\n",
    "uk_outliers"
   ]
  },
  {
   "cell_type": "markdown",
   "metadata": {},
   "source": [
    "**Well done for completing the assignment! As well as being able to calculate statistics, review distributions and graphs, it is also important to develop an understanding of what information we can draw from all of this. Post a comment to the Knowledge Base about a conclusion that you have been able to draw from the data as part of your work above.**"
   ]
  }
 ],
 "metadata": {
  "kernel_info": {
   "name": "python3"
  },
  "kernelspec": {
   "display_name": "Python 3 (ipykernel)",
   "language": "python",
   "name": "python3"
  },
  "language_info": {
   "codemirror_mode": {
    "name": "ipython",
    "version": 3
   },
   "file_extension": ".py",
   "mimetype": "text/x-python",
   "name": "python",
   "nbconvert_exporter": "python",
   "pygments_lexer": "ipython3",
   "version": "3.11.13"
  },
  "nteract": {
   "version": "0.15.0"
  }
 },
 "nbformat": 4,
 "nbformat_minor": 1
}
